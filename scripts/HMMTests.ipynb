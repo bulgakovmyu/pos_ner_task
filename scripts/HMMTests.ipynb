{
 "cells": [
  {
   "cell_type": "code",
   "execution_count": 1,
   "metadata": {},
   "outputs": [],
   "source": [
    "from src.models.HMM import HMMTagger\n",
    "import numpy as np"
   ]
  },
  {
   "cell_type": "code",
   "execution_count": 2,
   "metadata": {},
   "outputs": [
    {
     "name": "stderr",
     "output_type": "stream",
     "text": [
      "100%|██████████| 3/3 [00:00<00:00, 11366.68it/s]\n"
     ]
    }
   ],
   "source": [
    "states = ['A', 'B', 'C']\n",
    "observ = ['x', 'y', 'z', 'u', 'v']\n",
    "test_hmm = HMMTagger(states, observ)\n",
    "train_data = [[('x',\"\", 'A'),('y', \"\", 'B'),('u', \"\", \"A\")],\n",
    "              [('v', \"\", \"A\"),('y', \"\", 'B'),('z', \"\", 'B'),('x',\"\", 'A'),('u',\"\", 'C')],\n",
    "              [('u',\"\", 'C'),('x', \"\", 'B')]]\n",
    "test_hmm.fit(train_data)     "
   ]
  },
  {
   "cell_type": "code",
   "execution_count": 3,
   "metadata": {},
   "outputs": [],
   "source": [
    "if not np.isclose(test_hmm.init_prob, np.array([[0.66666667, 0.        , 0.33333333]]), 1e-6).all():\n",
    "  print('Initial probabilities are estimated incorrectly')\n",
    "\n",
    "if not np.isclose(test_hmm.emission_matrix, np.array([[0.3  , 0.1  , 0.1  , 0.2  , 0.2  , 0.1  ],\n",
    "                                                      [0.2  , 0.3  , 0.2  , 0.1  , 0.1  , 0.1  ],\n",
    "                                                      [0.125, 0.125, 0.125, 0.375, 0.125, 0.125]]), 1e-6).all():\n",
    "  print('Emission probabilities are estimated incorrectly')\n",
    "\n",
    "if not np.isclose(test_hmm.transition_matrix, np.array([[0.        , 0.66666667, 0.33333333],\n",
    "                                                        [0.66666667, 0.33333333, 0.        ],\n",
    "                                                        [0.        , 1.        , 0.        ]]), 1e-6).all():\n",
    "  print('Transition probabilities are estimated incorrectly')\n",
    "if not test_hmm.predict([['x','y','u','v','z','x']]) == [['A', 'B', 'A', 'C', 'B', 'A']]:\n",
    "  print('Decoding is incorrect')"
   ]
  },
  {
   "cell_type": "code",
   "execution_count": null,
   "metadata": {},
   "outputs": [],
   "source": []
  }
 ],
 "metadata": {
  "kernelspec": {
   "display_name": "Python 3.9.13 ('nlp-course')",
   "language": "python",
   "name": "python3"
  },
  "language_info": {
   "codemirror_mode": {
    "name": "ipython",
    "version": 3
   },
   "file_extension": ".py",
   "mimetype": "text/x-python",
   "name": "python",
   "nbconvert_exporter": "python",
   "pygments_lexer": "ipython3",
   "version": "3.9.13"
  },
  "orig_nbformat": 4,
  "vscode": {
   "interpreter": {
    "hash": "e1aa5c029e42cdcf3a100caa232ba22b435792a287a2f0d408a51f459991f525"
   }
  }
 },
 "nbformat": 4,
 "nbformat_minor": 2
}
